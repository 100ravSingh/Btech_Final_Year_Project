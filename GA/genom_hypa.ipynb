{
 "cells": [
  {
   "cell_type": "code",
   "execution_count": 1,
   "metadata": {},
   "outputs": [],
   "source": [
    "import numpy as np\n",
    "import pandas as pd\n",
    "import matplotlib.pyplot as plt\n",
    "import seaborn as sns\n",
    "from sklearn.model_selection import RandomizedSearchCV\n",
    "from sklearn.metrics import accuracy_score\n",
    "from sklearn.model_selection import train_test_split\n",
    "from numpy import loadtxt\n",
    "import xgboost\n",
    "from xgboost import plot_importance\n",
    "from sklearn.metrics import mean_squared_error\n",
    "from sklearn.metrics import mean_absolute_error\n",
    "from sklearn.metrics import r2_score\n",
    "from sklearn.preprocessing import MinMaxScaler, PolynomialFeatures\n",
    "from sklearn.model_selection import *\n",
    "import time\n",
    "from optparse import OptionParser\n",
    "import matplotlib\n",
    "from matplotlib import pyplot as plt\n",
    "from tikzplotlib import save as tikz_save"
   ]
  },
  {
   "cell_type": "code",
   "execution_count": 2,
   "metadata": {},
   "outputs": [
    {
     "data": {
      "text/html": [
       "<div>\n",
       "<style scoped>\n",
       "    .dataframe tbody tr th:only-of-type {\n",
       "        vertical-align: middle;\n",
       "    }\n",
       "\n",
       "    .dataframe tbody tr th {\n",
       "        vertical-align: top;\n",
       "    }\n",
       "\n",
       "    .dataframe thead th {\n",
       "        text-align: right;\n",
       "    }\n",
       "</style>\n",
       "<table border=\"1\" class=\"dataframe\">\n",
       "  <thead>\n",
       "    <tr style=\"text-align: right;\">\n",
       "      <th></th>\n",
       "      <th>Cement (kg in a m^3 mixture)</th>\n",
       "      <th>Blast Furnace Slag (kg in a m^3 mixture)</th>\n",
       "      <th>Fly Ash (kg in a m^3 mixture)</th>\n",
       "      <th>Water (kg in a m^3 mixture)</th>\n",
       "      <th>Superplasticizer (kg in a m^3 mixture)</th>\n",
       "      <th>Coarse Aggregate (kg in a m^3 mixture)</th>\n",
       "      <th>Fine Aggregate (kg in a m^3 mixture)</th>\n",
       "      <th>Age (day)</th>\n",
       "      <th>Concrete compressive strength (MPa, megapascals)</th>\n",
       "    </tr>\n",
       "  </thead>\n",
       "  <tbody>\n",
       "    <tr>\n",
       "      <th>0</th>\n",
       "      <td>540.0</td>\n",
       "      <td>0.0</td>\n",
       "      <td>0.0</td>\n",
       "      <td>162.0</td>\n",
       "      <td>2.5</td>\n",
       "      <td>1040.0</td>\n",
       "      <td>676.0</td>\n",
       "      <td>28</td>\n",
       "      <td>79.986111</td>\n",
       "    </tr>\n",
       "    <tr>\n",
       "      <th>1</th>\n",
       "      <td>540.0</td>\n",
       "      <td>0.0</td>\n",
       "      <td>0.0</td>\n",
       "      <td>162.0</td>\n",
       "      <td>2.5</td>\n",
       "      <td>1055.0</td>\n",
       "      <td>676.0</td>\n",
       "      <td>28</td>\n",
       "      <td>61.887366</td>\n",
       "    </tr>\n",
       "    <tr>\n",
       "      <th>2</th>\n",
       "      <td>332.5</td>\n",
       "      <td>142.5</td>\n",
       "      <td>0.0</td>\n",
       "      <td>228.0</td>\n",
       "      <td>0.0</td>\n",
       "      <td>932.0</td>\n",
       "      <td>594.0</td>\n",
       "      <td>270</td>\n",
       "      <td>40.269535</td>\n",
       "    </tr>\n",
       "    <tr>\n",
       "      <th>3</th>\n",
       "      <td>332.5</td>\n",
       "      <td>142.5</td>\n",
       "      <td>0.0</td>\n",
       "      <td>228.0</td>\n",
       "      <td>0.0</td>\n",
       "      <td>932.0</td>\n",
       "      <td>594.0</td>\n",
       "      <td>365</td>\n",
       "      <td>41.052780</td>\n",
       "    </tr>\n",
       "    <tr>\n",
       "      <th>4</th>\n",
       "      <td>198.6</td>\n",
       "      <td>132.4</td>\n",
       "      <td>0.0</td>\n",
       "      <td>192.0</td>\n",
       "      <td>0.0</td>\n",
       "      <td>978.4</td>\n",
       "      <td>825.5</td>\n",
       "      <td>360</td>\n",
       "      <td>44.296075</td>\n",
       "    </tr>\n",
       "  </tbody>\n",
       "</table>\n",
       "</div>"
      ],
      "text/plain": [
       "   Cement (kg in a m^3 mixture)  Blast Furnace Slag (kg in a m^3 mixture)  \\\n",
       "0                         540.0                                       0.0   \n",
       "1                         540.0                                       0.0   \n",
       "2                         332.5                                     142.5   \n",
       "3                         332.5                                     142.5   \n",
       "4                         198.6                                     132.4   \n",
       "\n",
       "   Fly Ash (kg in a m^3 mixture)  Water (kg in a m^3 mixture)  \\\n",
       "0                            0.0                        162.0   \n",
       "1                            0.0                        162.0   \n",
       "2                            0.0                        228.0   \n",
       "3                            0.0                        228.0   \n",
       "4                            0.0                        192.0   \n",
       "\n",
       "   Superplasticizer (kg in a m^3 mixture)  \\\n",
       "0                                     2.5   \n",
       "1                                     2.5   \n",
       "2                                     0.0   \n",
       "3                                     0.0   \n",
       "4                                     0.0   \n",
       "\n",
       "   Coarse Aggregate (kg in a m^3 mixture)  \\\n",
       "0                                  1040.0   \n",
       "1                                  1055.0   \n",
       "2                                   932.0   \n",
       "3                                   932.0   \n",
       "4                                   978.4   \n",
       "\n",
       "   Fine Aggregate (kg in a m^3 mixture)  Age (day)  \\\n",
       "0                                 676.0         28   \n",
       "1                                 676.0         28   \n",
       "2                                 594.0        270   \n",
       "3                                 594.0        365   \n",
       "4                                 825.5        360   \n",
       "\n",
       "   Concrete compressive strength (MPa, megapascals)   \n",
       "0                                          79.986111  \n",
       "1                                          61.887366  \n",
       "2                                          40.269535  \n",
       "3                                          41.052780  \n",
       "4                                          44.296075  "
      ]
     },
     "execution_count": 2,
     "metadata": {},
     "output_type": "execute_result"
    }
   ],
   "source": [
    "df = pd.read_csv('../Dataset/compressive_strength.csv')\n",
    "df.head()"
   ]
  },
  {
   "cell_type": "code",
   "execution_count": 3,
   "metadata": {},
   "outputs": [
    {
     "name": "stdout",
     "output_type": "stream",
     "text": [
      "<class 'pandas.core.frame.DataFrame'>\n",
      "RangeIndex: 1133 entries, 0 to 1132\n",
      "Data columns (total 9 columns):\n",
      " #   Column                                             Non-Null Count  Dtype  \n",
      "---  ------                                             --------------  -----  \n",
      " 0   Cement (kg in a m^3 mixture)                       1133 non-null   float64\n",
      " 1   Blast Furnace Slag (kg in a m^3 mixture)           1133 non-null   float64\n",
      " 2   Fly Ash (kg in a m^3 mixture)                      1133 non-null   float64\n",
      " 3   Water (kg in a m^3 mixture)                        1133 non-null   float64\n",
      " 4   Superplasticizer (kg in a m^3 mixture)             1133 non-null   float64\n",
      " 5   Coarse Aggregate (kg in a m^3 mixture)             1133 non-null   float64\n",
      " 6   Fine Aggregate (kg in a m^3 mixture)               1133 non-null   float64\n",
      " 7   Age (day)                                          1133 non-null   int64  \n",
      " 8   Concrete compressive strength (MPa, megapascals)   1133 non-null   float64\n",
      "dtypes: float64(8), int64(1)\n",
      "memory usage: 79.8 KB\n"
     ]
    }
   ],
   "source": [
    "df.info()"
   ]
  },
  {
   "cell_type": "code",
   "execution_count": 4,
   "metadata": {},
   "outputs": [
    {
     "data": {
      "image/png": "[encoded data removed]",
      "text/plain": [
       "<Figure size 432x288 with 1 Axes>"
      ]
     },
     "metadata": {
      "needs_background": "light"
     },
     "output_type": "display_data"
    }
   ],
   "source": [
    "from xgboost.sklearn import XGBRegressor\n",
    "from xgboost import plot_importance\n",
    "from matplotlib import pyplot\n",
    "x_train=df.drop(['Concrete compressive strength (MPa, megapascals) '],axis=1)\n",
    "y_train=df['Concrete compressive strength (MPa, megapascals) ']\n",
    "classifier=xgboost.XGBRegressor()\n",
    "regressor=XGBRegressor()\n",
    "model = XGBRegressor()\n",
    "model.fit(x_train, y_train)\n",
    "#FEATURE IMPORTANCE\n",
    "plot_importance(model)\n",
    "pyplot.show()"
   ]
  },
  {
   "cell_type": "code",
   "execution_count": 5,
   "metadata": {},
   "outputs": [],
   "source": [
    "def mean_absolute_percentage_error(y_test, y_pred):\n",
    "    y_test, y_pred = np.array(y_test), np.array(y_pred)\n",
    "    return np.mean(np.abs((y_test - y_pred) / y_test)) * 100"
   ]
  },
  {
   "cell_type": "code",
   "execution_count": 6,
   "metadata": {},
   "outputs": [],
   "source": [
    "# cross validation\n",
    "# cross validation\n",
    "def cv(random_state, poly_degree, model, problem, print_folds=True):\n",
    "    interaction_only = False\n",
    "    if problem.lower() == \"compressive\":\n",
    "        data_file ='../Dataset/compressive_strength.csv'\n",
    "        data = pd.read_csv(data_file)\n",
    "        interaction_only = True\n",
    "\n",
    "    elif problem.lower() == \"tensile\":\n",
    "        data_file = '../Dataset/tensile_strength.csv'\n",
    "        data = pd.read_csv(data_file)\n",
    "\n",
    "    elif problem.lower() == \"test2\":\n",
    "        data_file ='../Dataset/data2set.csv'\n",
    "        data = pd.read_csv(data_file)\n",
    "    else:\n",
    "        print(\"The problem has to be compressive or tensile12 or tensile2\")\n",
    "        return\n",
    "\n",
    "    data = data.values\n",
    "    n_data_cols = np.shape(data)[1]\n",
    "    n_features = n_data_cols - 1\n",
    "\n",
    "    # retrieve data for features\n",
    "    X = np.array(data[:, :n_features])\n",
    "    y = np.array(data[:, n_features:])\n",
    "    # split into 10 folds with shuffle\n",
    "    n_folds = 10\n",
    "    kf = KFold(n_splits=n_folds, shuffle=True, random_state=random_state)\n",
    "\n",
    "    start_time = time.time()\n",
    "    scores = []\n",
    "    fold_index = 0\n",
    "\n",
    "    for train_index, test_index in kf.split(X):\n",
    "        X_train = X[train_index]\n",
    "        y_train = y[train_index]\n",
    "        X_test = X[test_index]\n",
    "        y_test = y[test_index]\n",
    "\n",
    "        X_scaler = MinMaxScaler(feature_range=(0, 1))\n",
    "        X_train = X_scaler.fit_transform(X_train)\n",
    "        X_test = X_scaler.transform(X_test)\n",
    "\n",
    "        y_scaler = MinMaxScaler(feature_range=(0, 1))\n",
    "        y_train = y_scaler.fit_transform(y_train)\n",
    "\n",
    "        if poly_degree >= 1:\n",
    "            poly = PolynomialFeatures(degree=poly_degree, interaction_only=interaction_only)\n",
    "            X_train = poly.fit_transform(X_train)\n",
    "            X_test = poly.transform(X_test)\n",
    "            # print ('Total number of features: ', X_train.size)\n",
    "\n",
    "        model.fit(X_train, y_train.ravel())\n",
    "\n",
    "        y_pred = model.predict(X_test)\n",
    "        y_pred = y_scaler.inverse_transform(y_pred.reshape(-1, 1))\n",
    "\n",
    "        # y_train_pred = model.predict(X_train)\n",
    "        # y_train_pred = y_scaler.inverse_transform(y_train_pred.reshape(-1, 1))\n",
    "\n",
    "        # y_train = y_scaler.inverse_transform(y_train)\n",
    "\n",
    "        # Error measurements\n",
    "        r_lcc = r2_score(y_test, y_pred) ** 0.5\n",
    "        rmse = mean_squared_error(y_test, y_pred) ** 0.5\n",
    "        # print(\"RMSE on train: %s\" % mean_squared_error(y_train, y_train_pred) ** 0.5)\n",
    "        # print(\"RMSE on test: %s\" % rmse)\n",
    "        mae = mean_absolute_error(y_test, y_pred)\n",
    "        mape = mean_absolute_percentage_error(y_test, y_pred)\n",
    "        scores.append([r_lcc, rmse, mae, mape])\n",
    "        if print_folds:\n",
    "            print(\"[fold {0}] r: {1:.5f}, rmse(MPa): {2:.5f}, mae(MPa): {3:.5f}, mape(%): {4:.5f}\".\n",
    "                  format(fold_index, scores[fold_index][0], scores[fold_index][1], scores[fold_index][2], scores[fold_index][3]))\n",
    "        fold_index += 1\n",
    "    scores = np.array(scores)\n",
    "    # barplot([\"R2\", \"RMSE\", \"MAE\", \"MAPE\"], scores.mean(0), scores.std(0), \"Metrics\", \"Values\",\n",
    "    #         \"Performance with different metrics\")\n",
    "    print('k-fold mean:              ', scores.mean(0))\n",
    "    print('k-fold standard deviation:', scores.std(0))\n",
    "\n",
    "    # Running time\n",
    "    print('Running time: %.3fs ' % (time.time() - start_time))\n",
    "    return scores.mean(0)[1].item()\n"
   ]
  },
  {
   "cell_type": "code",
   "execution_count": 7,
   "metadata": {},
   "outputs": [],
   "source": [
    "def run_model(regressor, params, random_state, poly_degree, problem):\n",
    "    model = regressor(**params)\n",
    "    cv(random_state=random_state, poly_degree=poly_degree, model=model, problem=problem)"
   ]
  },
  {
   "cell_type": "code",
   "execution_count": 8,
   "metadata": {},
   "outputs": [],
   "source": [
    "# run cross validation for XGB\n",
    "def run_xgb(random_state, poly_degree, n_estimators, max_depth, learning_rate,objective, problem):\n",
    "    print(\"Running XGB for %s data with random_state=%s, poly_degree=%s, \"\n",
    "          \"n_estimators=%s, max_depth=%s, learning_rate=%s, objective=%s\" %\n",
    "          (problem, random_state, poly_degree, n_estimators, max_depth, learning_rate, objective))\n",
    "\n",
    "    model = XGBRegressor(n_estimators=n_estimators, max_depth=max_depth, learning_rate=learning_rate,\n",
    "                         objective=objective, random_state=random_state)\n",
    "    cv(random_state, poly_degree, model, problem=problem)\n",
    "    print(\"Finished running XGB for %s data with random_state=%s, poly_degree=%s, \"\n",
    "          \"n_estimators=%s, max_depth=%s, learning_rate=%s, objective=%s\\n\" %\n",
    "          (problem, random_state, poly_degree, n_estimators, max_depth, learning_rate, objective))\n"
   ]
  },
  {
   "cell_type": "code",
   "execution_count": null,
   "metadata": {},
   "outputs": [],
   "source": [
    "\n"
   ]
  },
  {
   "cell_type": "code",
   "execution_count": 9,
   "metadata": {},
   "outputs": [
    {
     "name": "stdout",
     "output_type": "stream",
     "text": [
      "Running XGB for compressive data with random_state=0, poly_degree=1, n_estimators=1000, max_depth=4, learning_rate=0.2, objective=reg:logistic\n",
      "[fold 0] r: 0.95887, rmse(MPa): 3.94719, mae(MPa): 2.50116, mape(%): 7.91651\n",
      "[fold 1] r: 0.97067, rmse(MPa): 3.84039, mae(MPa): 2.34949, mape(%): 8.16057\n",
      "[fold 2] r: 0.97863, rmse(MPa): 3.34907, mae(MPa): 2.36603, mape(%): 8.93340\n",
      "[fold 3] r: 0.97642, rmse(MPa): 3.69418, mae(MPa): 2.47053, mape(%): 7.83135\n",
      "[fold 4] r: 0.97889, rmse(MPa): 3.29443, mae(MPa): 2.25821, mape(%): 6.98731\n",
      "[fold 5] r: 0.96932, rmse(MPa): 3.93971, mae(MPa): 2.64957, mape(%): 8.82717\n",
      "[fold 6] r: 0.96602, rmse(MPa): 3.79462, mae(MPa): 2.61957, mape(%): 10.47297\n",
      "[fold 7] r: 0.95947, rmse(MPa): 4.66432, mae(MPa): 2.74650, mape(%): 9.79539\n",
      "[fold 8] r: 0.98155, rmse(MPa): 3.21610, mae(MPa): 2.17849, mape(%): 7.19807\n",
      "[fold 9] r: 0.97001, rmse(MPa): 4.00790, mae(MPa): 2.53930, mape(%): 10.13503\n",
      "k-fold mean:               [0.97098591 3.77479399 2.4678852  8.62577641]\n",
      "k-fold standard deviation: [0.00754875 0.40470139 0.17086947 1.15181006]\n",
      "Running time: 27.517s \n",
      "Finished running XGB for compressive data with random_state=0, poly_degree=1, n_estimators=1000, max_depth=4, learning_rate=0.2, objective=reg:logistic\n",
      "\n"
     ]
    }
   ],
   "source": [
    "if __name__ == \"__main__\":\n",
    "   run_xgb(random_state=0, poly_degree=1, n_estimators=1000, max_depth=4,\n",
    "          learning_rate=0.2,objective='reg:logistic',problem=\"compressive\")"
   ]
  },
  {
   "cell_type": "code",
   "execution_count": 10,
   "metadata": {},
   "outputs": [
    {
     "name": "stdout",
     "output_type": "stream",
     "text": [
      "Running XGB for compressive data with random_state=97, poly_degree=1, n_estimators=139, max_depth=6, learning_rate=0.13, objective=reg:logistic\n",
      "[fold 0] r: 0.95705, rmse(MPa): 4.88583, mae(MPa): 3.14277, mape(%): 10.33520\n",
      "[fold 1] r: 0.97275, rmse(MPa): 3.79856, mae(MPa): 2.71979, mape(%): 10.30733\n",
      "[fold 2] r: 0.97107, rmse(MPa): 3.93885, mae(MPa): 2.74649, mape(%): 10.35990\n",
      "[fold 3] r: 0.96746, rmse(MPa): 3.99172, mae(MPa): 2.82742, mape(%): 10.47890\n",
      "[fold 4] r: 0.97494, rmse(MPa): 3.67904, mae(MPa): 2.58663, mape(%): 9.51603\n",
      "[fold 5] r: 0.95497, rmse(MPa): 4.63286, mae(MPa): 3.08533, mape(%): 9.03725\n",
      "[fold 6] r: 0.96523, rmse(MPa): 3.92960, mae(MPa): 2.93217, mape(%): 9.44433\n",
      "[fold 7] r: 0.93485, rmse(MPa): 5.42022, mae(MPa): 3.28865, mape(%): 12.19555\n",
      "[fold 8] r: 0.97609, rmse(MPa): 3.49714, mae(MPa): 2.45312, mape(%): 8.43959\n",
      "[fold 9] r: 0.95507, rmse(MPa): 4.85649, mae(MPa): 2.93397, mape(%): 9.60309\n",
      "k-fold mean:               [0.96295012 4.26303202 2.87163346 9.97171614]\n",
      "k-fold standard deviation: [0.01205831 0.60408259 0.24447609 0.97161755]\n",
      "Running time: 3.809s \n",
      "Finished running XGB for compressive data with random_state=97, poly_degree=1, n_estimators=139, max_depth=6, learning_rate=0.13, objective=reg:logistic\n",
      "\n"
     ]
    }
   ],
   "source": [
    "if __name__ == \"__main__\":\n",
    "    run_xgb(random_state=97, poly_degree=1, n_estimators=139, max_depth=6,\n",
    "        learning_rate=0.13, objective=\"reg:logistic\", problem=\"compressive\")"
   ]
  },
  {
   "cell_type": "code",
   "execution_count": 11,
   "metadata": {},
   "outputs": [
    {
     "name": "stdout",
     "output_type": "stream",
     "text": [
      "Running XGB for compressive data with random_state=0, poly_degree=1, n_estimators=139, max_depth=6, learning_rate=0.13, objective=reg:logistic\n",
      "[fold 0] r: 0.95629, rmse(MPa): 4.06684, mae(MPa): 2.84586, mape(%): 9.67342\n",
      "[fold 1] r: 0.96227, rmse(MPa): 4.34649, mae(MPa): 2.76735, mape(%): 9.60605\n",
      "[fold 2] r: 0.96565, rmse(MPa): 4.23251, mae(MPa): 2.87764, mape(%): 10.79944\n",
      "[fold 3] r: 0.97371, rmse(MPa): 3.89798, mae(MPa): 2.67543, mape(%): 8.49100\n",
      "[fold 4] r: 0.97578, rmse(MPa): 3.52586, mae(MPa): 2.61989, mape(%): 8.18944\n",
      "[fold 5] r: 0.96216, rmse(MPa): 4.36747, mae(MPa): 2.95031, mape(%): 9.65866\n",
      "[fold 6] r: 0.96280, rmse(MPa): 3.96703, mae(MPa): 2.85018, mape(%): 11.32656\n",
      "[fold 7] r: 0.95567, rmse(MPa): 4.87335, mae(MPa): 3.05646, mape(%): 10.63571\n",
      "[fold 8] r: 0.97412, rmse(MPa): 3.80189, mae(MPa): 2.42609, mape(%): 8.16284\n",
      "[fold 9] r: 0.97092, rmse(MPa): 3.94740, mae(MPa): 2.72553, mape(%): 11.05610\n",
      "k-fold mean:               [0.96593698 4.1026821  2.77947365 9.7599225 ]\n",
      "k-fold standard deviation: [0.00696632 0.35344676 0.17005365 1.12475205]\n",
      "Running time: 3.551s \n",
      "Finished running XGB for compressive data with random_state=0, poly_degree=1, n_estimators=139, max_depth=6, learning_rate=0.13, objective=reg:logistic\n",
      "\n"
     ]
    }
   ],
   "source": [
    "if __name__ == \"__main__\":\n",
    "    run_xgb(random_state=0, poly_degree=1, n_estimators=139, max_depth=6,\n",
    "        learning_rate=0.13, objective=\"reg:logistic\", problem=\"compressive\")\n",
    "#parents=100"
   ]
  },
  {
   "cell_type": "code",
   "execution_count": 12,
   "metadata": {},
   "outputs": [
    {
     "name": "stdout",
     "output_type": "stream",
     "text": [
      "Running XGB for compressive data with random_state=0, poly_degree=1, n_estimators=133, max_depth=6, learning_rate=0.13, objective=reg:logistic\n",
      "[fold 0] r: 0.95614, rmse(MPa): 4.07341, mae(MPa): 2.85480, mape(%): 9.71964\n",
      "[fold 1] r: 0.96202, rmse(MPa): 4.36075, mae(MPa): 2.77877, mape(%): 9.65342\n",
      "[fold 2] r: 0.96537, rmse(MPa): 4.24907, mae(MPa): 2.89788, mape(%): 10.92086\n",
      "[fold 3] r: 0.97343, rmse(MPa): 3.91814, mae(MPa): 2.68409, mape(%): 8.50760\n",
      "[fold 4] r: 0.97555, rmse(MPa): 3.54235, mae(MPa): 2.64465, mape(%): 8.27369\n",
      "[fold 5] r: 0.96186, rmse(MPa): 4.38432, mae(MPa): 2.96606, mape(%): 9.69613\n",
      "[fold 6] r: 0.96238, rmse(MPa): 3.98902, mae(MPa): 2.86344, mape(%): 11.37575\n",
      "[fold 7] r: 0.95563, rmse(MPa): 4.87543, mae(MPa): 3.05768, mape(%): 10.63703\n",
      "[fold 8] r: 0.97352, rmse(MPa): 3.84505, mae(MPa): 2.44284, mape(%): 8.22910\n",
      "[fold 9] r: 0.97088, rmse(MPa): 3.95050, mae(MPa): 2.74027, mape(%): 11.11794\n",
      "k-fold mean:               [0.96567882 4.11880185 2.79304736 9.813115  ]\n",
      "k-fold standard deviation: [0.00690623 0.34831359 0.16710628 1.12612634]\n",
      "Running time: 3.887s \n",
      "Finished running XGB for compressive data with random_state=0, poly_degree=1, n_estimators=133, max_depth=6, learning_rate=0.13, objective=reg:logistic\n",
      "\n"
     ]
    }
   ],
   "source": [
    "if __name__ == \"__main__\":\n",
    "    run_xgb(random_state=0, poly_degree=1, n_estimators=133, max_depth=6,\n",
    "        learning_rate=0.13, objective=\"reg:logistic\", problem=\"compressive\")"
   ]
  },
  {
   "cell_type": "code",
   "execution_count": 13,
   "metadata": {},
   "outputs": [
    {
     "name": "stdout",
     "output_type": "stream",
     "text": [
      "Running XGB for compressive data with random_state=0, poly_degree=1, n_estimators=248, max_depth=8, learning_rate=0.2, objective=reg:logistic\n",
      "[fold 0] r: 0.96215, rmse(MPa): 3.78992, mae(MPa): 2.46379, mape(%): 8.55057\n",
      "[fold 1] r: 0.96701, rmse(MPa): 4.06922, mae(MPa): 2.54739, mape(%): 8.82043\n",
      "[fold 2] r: 0.96735, rmse(MPa): 4.12806, mae(MPa): 2.58415, mape(%): 9.41535\n",
      "[fold 3] r: 0.97747, rmse(MPa): 3.61173, mae(MPa): 2.30703, mape(%): 7.44411\n",
      "[fold 4] r: 0.97676, rmse(MPa): 3.45469, mae(MPa): 2.39119, mape(%): 7.23726\n",
      "[fold 5] r: 0.96602, rmse(MPa): 4.14278, mae(MPa): 2.80313, mape(%): 9.31671\n",
      "[fold 6] r: 0.96923, rmse(MPa): 3.61387, mae(MPa): 2.59069, mape(%): 10.46311\n",
      "[fold 7] r: 0.95356, rmse(MPa): 4.98568, mae(MPa): 3.02276, mape(%): 10.18716\n",
      "[fold 8] r: 0.97401, rmse(MPa): 3.80974, mae(MPa): 2.30170, mape(%): 7.58474\n",
      "[fold 9] r: 0.96982, rmse(MPa): 4.02056, mae(MPa): 2.45349, mape(%): 9.71595\n",
      "k-fold mean:               [0.9683378  3.9626251  2.54653389 8.87353875]\n",
      "k-fold standard deviation: [0.00674144 0.40953    0.21282387 1.09273839]\n",
      "Running time: 7.285s \n",
      "Finished running XGB for compressive data with random_state=0, poly_degree=1, n_estimators=248, max_depth=8, learning_rate=0.2, objective=reg:logistic\n",
      "\n"
     ]
    }
   ],
   "source": [
    "#parents=200\n",
    "if __name__ == \"__main__\":\n",
    "    run_xgb(random_state=0, poly_degree=1, n_estimators=248, max_depth=8,\n",
    "        learning_rate=0.2, objective=\"reg:logistic\", problem=\"compressive\")"
   ]
  },
  {
   "cell_type": "code",
   "execution_count": 14,
   "metadata": {},
   "outputs": [
    {
     "name": "stdout",
     "output_type": "stream",
     "text": [
      "Running XGB for compressive data with random_state=0, poly_degree=1, n_estimators=10, max_depth=9, learning_rate=0.6, objective=reg:logistic\n",
      "[fold 0] r: 0.94020, rmse(MPa): 4.73691, mae(MPa): 3.38328, mape(%): 11.47693\n",
      "[fold 1] r: 0.95156, rmse(MPa): 4.91167, mae(MPa): 3.15638, mape(%): 11.37998\n",
      "[fold 2] r: 0.94907, rmse(MPa): 5.13169, mae(MPa): 3.52585, mape(%): 13.34992\n",
      "[fold 3] r: 0.96786, rmse(MPa): 4.30294, mae(MPa): 3.23549, mape(%): 10.45037\n",
      "[fold 4] r: 0.96720, rmse(MPa): 4.09424, mae(MPa): 3.10975, mape(%): 10.35629\n",
      "[fold 5] r: 0.94586, rmse(MPa): 5.20232, mae(MPa): 3.65007, mape(%): 11.59703\n",
      "[fold 6] r: 0.94695, rmse(MPa): 4.71808, mae(MPa): 3.48837, mape(%): 14.17314\n",
      "[fold 7] r: 0.93507, rmse(MPa): 5.86688, mae(MPa): 3.70971, mape(%): 12.48913\n",
      "[fold 8] r: 0.96738, rmse(MPa): 4.26115, mae(MPa): 2.85992, mape(%): 9.70503\n",
      "[fold 9] r: 0.95022, rmse(MPa): 5.13769, mae(MPa): 3.19377, mape(%): 12.86561\n",
      "k-fold mean:               [ 0.95213844  4.83635738  3.33126081 11.78434235]\n",
      "k-fold standard deviation: [0.01104544 0.50691388 0.2529834  1.35124646]\n",
      "Running time: 0.822s \n",
      "Finished running XGB for compressive data with random_state=0, poly_degree=1, n_estimators=10, max_depth=9, learning_rate=0.6, objective=reg:logistic\n",
      "\n"
     ]
    }
   ],
   "source": [
    "#numberOfParents = 300 #number of parents to start\n",
    "#numberOfParentsMating = 150 #number of parents that will mate\n",
    "#numberOfParameters = 7 #number of parameters that will be optimized\n",
    "#numberOfGenerations = 10 #number of genration that will be created\n",
    "if __name__ == \"__main__\":\n",
    "    run_xgb(random_state=0, poly_degree=1, n_estimators=10, max_depth=9,\n",
    "        learning_rate=0.6, objective=\"reg:logistic\", problem=\"compressive\")"
   ]
  },
  {
   "cell_type": "code",
   "execution_count": 15,
   "metadata": {},
   "outputs": [
    {
     "name": "stdout",
     "output_type": "stream",
     "text": [
      "Running XGB for compressive data with random_state=0, poly_degree=1, n_estimators=55, max_depth=6, learning_rate=0.6, objective=reg:logistic\n",
      "[fold 0] r: 0.95002, rmse(MPa): 4.34146, mae(MPa): 3.03128, mape(%): 10.17700\n",
      "[fold 1] r: 0.96089, rmse(MPa): 4.42380, mae(MPa): 2.95955, mape(%): 10.73368\n",
      "[fold 2] r: 0.95827, rmse(MPa): 4.65615, mae(MPa): 3.00773, mape(%): 10.55813\n",
      "[fold 3] r: 0.97797, rmse(MPa): 3.57197, mae(MPa): 2.38147, mape(%): 7.41704\n",
      "[fold 4] r: 0.97406, rmse(MPa): 3.64737, mae(MPa): 2.62034, mape(%): 8.31110\n",
      "[fold 5] r: 0.96764, rmse(MPa): 4.04454, mae(MPa): 2.81612, mape(%): 9.06493\n",
      "[fold 6] r: 0.95568, rmse(MPa): 4.32214, mae(MPa): 3.14115, mape(%): 12.41850\n",
      "[fold 7] r: 0.95083, rmse(MPa): 5.12628, mae(MPa): 3.14414, mape(%): 10.55911\n",
      "[fold 8] r: 0.96558, rmse(MPa): 4.37533, mae(MPa): 2.58300, mape(%): 8.05793\n",
      "[fold 9] r: 0.96954, rmse(MPa): 4.03867, mae(MPa): 2.92887, mape(%): 11.33664\n",
      "k-fold mean:               [0.96304806 4.25477204 2.86136465 9.86340664]\n",
      "k-fold standard deviation: [0.00902388 0.43610058 0.24303404 1.51039647]\n",
      "Running time: 1.680s \n",
      "Finished running XGB for compressive data with random_state=0, poly_degree=1, n_estimators=55, max_depth=6, learning_rate=0.6, objective=reg:logistic\n",
      "\n"
     ]
    }
   ],
   "source": [
    "#numberOfParents = 400 #number of parents to start\n",
    "#numberOfParentsMating = 200 #number of parents that will mate\n",
    "#numberOfParameters = 7 #number of parameters that will be optimized\n",
    "#numberOfGenerations = 10 #number of genration that will be created\n",
    "if __name__ == \"__main__\":\n",
    "    run_xgb(random_state=0, poly_degree=1, n_estimators=55, max_depth=6,\n",
    "        learning_rate=0.6, objective=\"reg:logistic\", problem=\"compressive\")"
   ]
  },
  {
   "cell_type": "code",
   "execution_count": 16,
   "metadata": {},
   "outputs": [
    {
     "name": "stdout",
     "output_type": "stream",
     "text": [
      "Running XGB for compressive data with random_state=0, poly_degree=1, n_estimators=10, max_depth=9, learning_rate=0.55, objective=reg:logistic\n",
      "[fold 0] r: 0.94520, rmse(MPa): 4.54047, mae(MPa): 3.20237, mape(%): 11.46111\n",
      "[fold 1] r: 0.95743, rmse(MPa): 4.61149, mae(MPa): 2.98433, mape(%): 10.73262\n",
      "[fold 2] r: 0.95024, rmse(MPa): 5.07385, mae(MPa): 3.48808, mape(%): 13.36014\n",
      "[fold 3] r: 0.96531, rmse(MPa): 4.46766, mae(MPa): 3.12835, mape(%): 9.77210\n",
      "[fold 4] r: 0.96357, rmse(MPa): 4.31074, mae(MPa): 3.30699, mape(%): 11.04105\n",
      "[fold 5] r: 0.95507, rmse(MPa): 4.75076, mae(MPa): 3.50426, mape(%): 11.93204\n",
      "[fold 6] r: 0.94939, rmse(MPa): 4.61131, mae(MPa): 3.43974, mape(%): 14.10868\n",
      "[fold 7] r: 0.94385, rmse(MPa): 5.46821, mae(MPa): 3.56000, mape(%): 11.94295\n",
      "[fold 8] r: 0.96537, rmse(MPa): 4.38836, mae(MPa): 2.78005, mape(%): 9.33664\n",
      "[fold 9] r: 0.96561, rmse(MPa): 4.28736, mae(MPa): 2.96160, mape(%): 12.94712\n",
      "k-fold mean:               [ 0.95610341  4.65102224  3.2355774  11.66344485]\n",
      "k-fold standard deviation: [0.00817351 0.34964982 0.25421997 1.44713399]\n",
      "Running time: 0.579s \n",
      "Finished running XGB for compressive data with random_state=0, poly_degree=1, n_estimators=10, max_depth=9, learning_rate=0.55, objective=reg:logistic\n",
      "\n"
     ]
    }
   ],
   "source": [
    "#numberOfParents = 250 #number of parents to start\n",
    "#numberOfParentsMating = 125 #number of parents that will mate\n",
    "#numberOfParameters = 7 #number of parameters that will be optimized\n",
    "#numberOfGenerations = 10 #number of genration that will be created\n",
    "if __name__ == \"__main__\":\n",
    "    run_xgb(random_state=0, poly_degree=1, n_estimators=10, max_depth=9,\n",
    "        learning_rate=0.55, objective=\"reg:logistic\", problem=\"compressive\")"
   ]
  },
  {
   "cell_type": "code",
   "execution_count": 17,
   "metadata": {},
   "outputs": [
    {
     "name": "stdout",
     "output_type": "stream",
     "text": [
      "Running XGB for compressive data with random_state=0, poly_degree=1, n_estimators=10, max_depth=6, learning_rate=0.17, objective=reg:logistic\n",
      "[fold 0] r: 0.88073, rmse(MPa): 6.58662, mae(MPa): 5.21269, mape(%): 24.46686\n",
      "[fold 1] r: 0.89755, rmse(MPa): 7.04338, mae(MPa): 5.68509, mape(%): 22.50867\n",
      "[fold 2] r: 0.90621, rmse(MPa): 6.88694, mae(MPa): 5.57422, mape(%): 27.69713\n",
      "[fold 3] r: 0.91617, rmse(MPa): 6.85790, mae(MPa): 5.51913, mape(%): 19.67396\n",
      "[fold 4] r: 0.91412, rmse(MPa): 6.53504, mae(MPa): 5.28111, mape(%): 20.92430\n",
      "[fold 5] r: 0.90159, rmse(MPa): 6.93384, mae(MPa): 5.33467, mape(%): 21.52758\n",
      "[fold 6] r: 0.89106, rmse(MPa): 6.66332, mae(MPa): 5.11879, mape(%): 25.24968\n",
      "[fold 7] r: 0.89663, rmse(MPa): 7.32879, mae(MPa): 5.62860, mape(%): 23.24645\n",
      "[fold 8] r: 0.91099, rmse(MPa): 6.93722, mae(MPa): 5.50988, mape(%): 22.92178\n",
      "[fold 9] r: 0.88874, rmse(MPa): 7.55888, mae(MPa): 5.77585, mape(%): 28.40834\n",
      "k-fold mean:               [ 0.90037941  6.93319237  5.46400344 23.66247494]\n",
      "k-fold standard deviation: [0.01103166 0.30321827 0.20567536 2.68299288]\n",
      "Running time: 0.474s \n",
      "Finished running XGB for compressive data with random_state=0, poly_degree=1, n_estimators=10, max_depth=6, learning_rate=0.17, objective=reg:logistic\n",
      "\n"
     ]
    }
   ],
   "source": [
    "#numberOfParents = 150 #number of parents to start\n",
    "#numberOfParentsMating = 75 #number of parents that will mate\n",
    "#numberOfParameters = 7 #number of parameters that will be optimized\n",
    "#numberOfGenerations = 10 #number of genration that will be created\n",
    "if __name__ == \"__main__\":\n",
    "    run_xgb(random_state=0, poly_degree=1, n_estimators=10, max_depth=6,\n",
    "        learning_rate=0.17, objective=\"reg:logistic\", problem=\"compressive\")"
   ]
  },
  {
   "cell_type": "code",
   "execution_count": 18,
   "metadata": {},
   "outputs": [
    {
     "name": "stdout",
     "output_type": "stream",
     "text": [
      "Running XGB for compressive data with random_state=0, poly_degree=1, n_estimators=289, max_depth=6, learning_rate=0.56, objective=reg:logistic\n",
      "[fold 0] r: 0.95331, rmse(MPa): 4.19990, mae(MPa): 2.73083, mape(%): 9.15492\n",
      "[fold 1] r: 0.96875, rmse(MPa): 3.96218, mae(MPa): 2.57547, mape(%): 9.39553\n",
      "[fold 2] r: 0.97152, rmse(MPa): 3.85965, mae(MPa): 2.58085, mape(%): 9.35046\n",
      "[fold 3] r: 0.97313, rmse(MPa): 3.93977, mae(MPa): 2.73563, mape(%): 8.61769\n",
      "[fold 4] r: 0.97426, rmse(MPa): 3.63381, mae(MPa): 2.57907, mape(%): 7.85001\n",
      "[fold 5] r: 0.97097, rmse(MPa): 3.83422, mae(MPa): 2.59503, mape(%): 8.73506\n",
      "[fold 6] r: 0.96676, rmse(MPa): 3.75373, mae(MPa): 2.72354, mape(%): 10.99861\n",
      "[fold 7] r: 0.95514, rmse(MPa): 4.90199, mae(MPa): 2.85475, mape(%): 9.93173\n",
      "[fold 8] r: 0.97404, rmse(MPa): 3.80770, mae(MPa): 2.53281, mape(%): 8.18900\n",
      "[fold 9] r: 0.97235, rmse(MPa): 3.85097, mae(MPa): 2.57099, mape(%): 9.69377\n",
      "k-fold mean:               [0.96802166 3.97439282 2.64789849 9.19167775]\n",
      "k-fold standard deviation: [0.00724909 0.3395824  0.09975864 0.86465626]\n",
      "Running time: 7.389s \n",
      "Finished running XGB for compressive data with random_state=0, poly_degree=1, n_estimators=289, max_depth=6, learning_rate=0.56, objective=reg:logistic\n",
      "\n"
     ]
    }
   ],
   "source": [
    "#numberOfParents = 210 #number of parents to start\n",
    "#numberOfParentsMating = 105 #number of parents that will mate\n",
    "#numberOfParameters = 7 #number of parameters that will be optimized\n",
    "#numberOfGenerations = 10 #number of genration that will be created\n",
    "if __name__ == \"__main__\":\n",
    "    run_xgb(random_state=0, poly_degree=1, n_estimators=289, max_depth=6,\n",
    "        learning_rate=0.56, objective=\"reg:logistic\", problem=\"compressive\")"
   ]
  },
  {
   "cell_type": "code",
   "execution_count": 19,
   "metadata": {},
   "outputs": [
    {
     "name": "stdout",
     "output_type": "stream",
     "text": [
      "Running XGB for compressive data with random_state=0, poly_degree=1, n_estimators=289, max_depth=6, learning_rate=0.2, objective=reg:logistic\n",
      "[fold 0] r: 0.95732, rmse(MPa): 4.01936, mae(MPa): 2.56894, mape(%): 8.59951\n",
      "[fold 1] r: 0.96103, rmse(MPa): 4.41623, mae(MPa): 2.79324, mape(%): 9.59691\n",
      "[fold 2] r: 0.97098, rmse(MPa): 3.89528, mae(MPa): 2.54757, mape(%): 9.31701\n",
      "[fold 3] r: 0.97953, rmse(MPa): 3.44448, mae(MPa): 2.33021, mape(%): 7.56031\n",
      "[fold 4] r: 0.97411, rmse(MPa): 3.64406, mae(MPa): 2.47769, mape(%): 7.58186\n",
      "[fold 5] r: 0.96984, rmse(MPa): 3.90659, mae(MPa): 2.65504, mape(%): 8.72338\n",
      "[fold 6] r: 0.97084, rmse(MPa): 3.51927, mae(MPa): 2.43386, mape(%): 9.89969\n",
      "[fold 7] r: 0.95803, rmse(MPa): 4.74475, mae(MPa): 2.88950, mape(%): 10.00883\n",
      "[fold 8] r: 0.97964, rmse(MPa): 3.37658, mae(MPa): 2.22638, mape(%): 7.26880\n",
      "[fold 9] r: 0.97074, rmse(MPa): 3.95945, mae(MPa): 2.61185, mape(%): 10.24359\n",
      "k-fold mean:               [0.96920746 3.89260484 2.55342672 8.87998864]\n",
      "k-fold standard deviation: [0.0076234  0.41101339 0.19007418 1.0490134 ]\n",
      "Running time: 6.756s \n",
      "Finished running XGB for compressive data with random_state=0, poly_degree=1, n_estimators=289, max_depth=6, learning_rate=0.2, objective=reg:logistic\n",
      "\n"
     ]
    }
   ],
   "source": [
    "#numberOfParents = 210 #number of parents to start\n",
    "#numberOfParentsMating = 105 #number of parents that will mate\n",
    "#numberOfParameters = 7 #number of parameters that will be optimized\n",
    "#numberOfGenerations = 10 #number of genration that will be created\n",
    "if __name__ == \"__main__\":\n",
    "    run_xgb(random_state=0, poly_degree=1, n_estimators=289, max_depth=6,\n",
    "        learning_rate=0.2, objective=\"reg:logistic\", problem=\"compressive\")"
   ]
  },
  {
   "cell_type": "code",
   "execution_count": 20,
   "metadata": {},
   "outputs": [
    {
     "name": "stdout",
     "output_type": "stream",
     "text": [
      "Running XGB for compressive data with random_state=0, poly_degree=1, n_estimators=1400, max_depth=6, learning_rate=0.15, objective=reg:logistic\n",
      "[fold 0] r: 0.95797, rmse(MPa): 3.98950, mae(MPa): 2.51884, mape(%): 8.24857\n",
      "[fold 1] r: 0.96768, rmse(MPa): 4.02842, mae(MPa): 2.50650, mape(%): 8.56882\n",
      "[fold 2] r: 0.97406, rmse(MPa): 3.68576, mae(MPa): 2.43221, mape(%): 8.89371\n",
      "[fold 3] r: 0.97735, rmse(MPa): 3.62143, mae(MPa): 2.38696, mape(%): 7.56328\n",
      "[fold 4] r: 0.97898, rmse(MPa): 3.28751, mae(MPa): 2.24924, mape(%): 6.77720\n",
      "[fold 5] r: 0.96706, rmse(MPa): 4.08004, mae(MPa): 2.69428, mape(%): 9.14487\n",
      "[fold 6] r: 0.97542, rmse(MPa): 3.23507, mae(MPa): 2.27545, mape(%): 9.33539\n",
      "[fold 7] r: 0.96100, rmse(MPa): 4.57731, mae(MPa): 2.73917, mape(%): 9.37310\n",
      "[fold 8] r: 0.97695, rmse(MPa): 3.59074, mae(MPa): 2.30884, mape(%): 7.59437\n",
      "[fold 9] r: 0.97620, rmse(MPa): 3.57576, mae(MPa): 2.26678, mape(%): 8.83553\n",
      "k-fold mean:               [0.9712668  3.76715511 2.43782724 8.43348436]\n",
      "k-fold standard deviation: [0.00700698 0.3848031  0.16682355 0.82662089]\n",
      "Running time: 31.666s \n",
      "Finished running XGB for compressive data with random_state=0, poly_degree=1, n_estimators=1400, max_depth=6, learning_rate=0.15, objective=reg:logistic\n",
      "\n"
     ]
    }
   ],
   "source": [
    "#numberOfParents = 210 #number of parents to start\n",
    "#numberOfParentsMating = 105 #number of parents that will mate\n",
    "#numberOfParameters = 7 #number of parameters that will be optimized\n",
    "#numberOfGenerations = 10 #number of genration that will be created\n",
    "if __name__ == \"__main__\":\n",
    "    run_xgb(random_state=0, poly_degree=1, n_estimators=1400, max_depth=6,\n",
    "        learning_rate=0.15, objective=\"reg:logistic\", problem=\"compressive\")"
   ]
  },
  {
   "cell_type": "code",
   "execution_count": 21,
   "metadata": {},
   "outputs": [
    {
     "name": "stdout",
     "output_type": "stream",
     "text": [
      "Running XGB for compressive data with random_state=0, poly_degree=1, n_estimators=1000, max_depth=6, learning_rate=0.15, objective=reg:logistic\n",
      "[fold 0] r: 0.95780, rmse(MPa): 3.99711, mae(MPa): 2.51947, mape(%): 8.22528\n",
      "[fold 1] r: 0.96735, rmse(MPa): 4.04847, mae(MPa): 2.51247, mape(%): 8.55930\n",
      "[fold 2] r: 0.97409, rmse(MPa): 3.68395, mae(MPa): 2.42506, mape(%): 8.86827\n",
      "[fold 3] r: 0.97704, rmse(MPa): 3.64554, mae(MPa): 2.41589, mape(%): 7.66531\n",
      "[fold 4] r: 0.97912, rmse(MPa): 3.27656, mae(MPa): 2.25284, mape(%): 6.83452\n",
      "[fold 5] r: 0.96731, rmse(MPa): 4.06452, mae(MPa): 2.68665, mape(%): 9.05329\n",
      "[fold 6] r: 0.97479, rmse(MPa): 3.27539, mae(MPa): 2.31408, mape(%): 9.49409\n",
      "[fold 7] r: 0.96093, rmse(MPa): 4.58123, mae(MPa): 2.75810, mape(%): 9.48175\n",
      "[fold 8] r: 0.97690, rmse(MPa): 3.59420, mae(MPa): 2.31764, mape(%): 7.62411\n",
      "[fold 9] r: 0.97575, rmse(MPa): 3.60952, mae(MPa): 2.29729, mape(%): 8.98734\n",
      "k-fold mean:               [0.97110965 3.77764938 2.44994895 8.4793278 ]\n",
      "k-fold standard deviation: [0.0069715  0.37961112 0.16113069 0.83329106]\n",
      "Running time: 23.691s \n",
      "Finished running XGB for compressive data with random_state=0, poly_degree=1, n_estimators=1000, max_depth=6, learning_rate=0.15, objective=reg:logistic\n",
      "\n"
     ]
    }
   ],
   "source": [
    "#numberOfParents = 210 #number of parents to start\n",
    "#numberOfParentsMating = 105 #number of parents that will mate\n",
    "#numberOfParameters = 7 #number of parameters that will be optimized\n",
    "#numberOfGenerations = 10 #number of genration that will be created\n",
    "if __name__ == \"__main__\":\n",
    "    run_xgb(random_state=0, poly_degree=1, n_estimators=1000, max_depth=6,\n",
    "        learning_rate=0.15, objective=\"reg:logistic\", problem=\"compressive\")"
   ]
  },
  {
   "cell_type": "code",
   "execution_count": 22,
   "metadata": {},
   "outputs": [
    {
     "name": "stdout",
     "output_type": "stream",
     "text": [
      "Running XGB for compressive data with random_state=0, poly_degree=1, n_estimators=1100, max_depth=6, learning_rate=0.15, objective=reg:logistic\n",
      "[fold 0] r: 0.95781, rmse(MPa): 3.99662, mae(MPa): 2.52145, mape(%): 8.23459\n",
      "[fold 1] r: 0.96750, rmse(MPa): 4.03975, mae(MPa): 2.50509, mape(%): 8.53790\n",
      "[fold 2] r: 0.97416, rmse(MPa): 3.67890, mae(MPa): 2.42052, mape(%): 8.85325\n",
      "[fold 3] r: 0.97710, rmse(MPa): 3.64101, mae(MPa): 2.41047, mape(%): 7.63825\n",
      "[fold 4] r: 0.97915, rmse(MPa): 3.27453, mae(MPa): 2.25147, mape(%): 6.82110\n",
      "[fold 5] r: 0.96716, rmse(MPa): 4.07370, mae(MPa): 2.69227, mape(%): 9.07779\n",
      "[fold 6] r: 0.97504, rmse(MPa): 3.25968, mae(MPa): 2.29819, mape(%): 9.45053\n",
      "[fold 7] r: 0.96106, rmse(MPa): 4.57382, mae(MPa): 2.74818, mape(%): 9.43912\n",
      "[fold 8] r: 0.97702, rmse(MPa): 3.58524, mae(MPa): 2.30761, mape(%): 7.59897\n",
      "[fold 9] r: 0.97577, rmse(MPa): 3.60752, mae(MPa): 2.29164, mape(%): 8.94794\n",
      "k-fold mean:               [0.97117723 3.77307642 2.44468832 8.4599443 ]\n",
      "k-fold standard deviation: [0.00698722 0.38128468 0.16300777 0.82908059]\n",
      "Running time: 26.690s \n",
      "Finished running XGB for compressive data with random_state=0, poly_degree=1, n_estimators=1100, max_depth=6, learning_rate=0.15, objective=reg:logistic\n",
      "\n"
     ]
    }
   ],
   "source": [
    "#numberOfParents = 210 #number of parents to start\n",
    "#numberOfParentsMating = 105 #number of parents that will mate\n",
    "#numberOfParameters = 7 #number of parameters that will be optimized\n",
    "#numberOfGenerations = 10 #number of genration that will be created\n",
    "if __name__ == \"__main__\":\n",
    "    run_xgb(random_state=0, poly_degree=1, n_estimators=1100, max_depth=6,\n",
    "        learning_rate=0.15, objective=\"reg:logistic\", problem=\"compressive\")"
   ]
  },
  {
   "cell_type": "code",
   "execution_count": 23,
   "metadata": {},
   "outputs": [
    {
     "name": "stdout",
     "output_type": "stream",
     "text": [
      "Running XGB for compressive data with random_state=0, poly_degree=1, n_estimators=1300, max_depth=6, learning_rate=0.15, objective=reg:logistic\n",
      "[fold 0] r: 0.95785, rmse(MPa): 3.99512, mae(MPa): 2.52137, mape(%): 8.24503\n",
      "[fold 1] r: 0.96761, rmse(MPa): 4.03301, mae(MPa): 2.50534, mape(%): 8.55997\n",
      "[fold 2] r: 0.97413, rmse(MPa): 3.68126, mae(MPa): 2.42724, mape(%): 8.87795\n",
      "[fold 3] r: 0.97724, rmse(MPa): 3.62987, mae(MPa): 2.40023, mape(%): 7.60523\n",
      "[fold 4] r: 0.97899, rmse(MPa): 3.28689, mae(MPa): 2.25507, mape(%): 6.80614\n",
      "[fold 5] r: 0.96713, rmse(MPa): 4.07578, mae(MPa): 2.68855, mape(%): 9.11029\n",
      "[fold 6] r: 0.97516, rmse(MPa): 3.25171, mae(MPa): 2.29142, mape(%): 9.40568\n",
      "[fold 7] r: 0.96093, rmse(MPa): 4.58113, mae(MPa): 2.74764, mape(%): 9.41528\n",
      "[fold 8] r: 0.97697, rmse(MPa): 3.58931, mae(MPa): 2.31111, mape(%): 7.60031\n",
      "[fold 9] r: 0.97613, rmse(MPa): 3.58113, mae(MPa): 2.27332, mape(%): 8.88448\n",
      "k-fold mean:               [0.971213   3.77052147 2.44212951 8.45103511]\n",
      "k-fold standard deviation: [0.00701536 0.38329487 0.16421885 0.82734296]\n",
      "Running time: 30.208s \n",
      "Finished running XGB for compressive data with random_state=0, poly_degree=1, n_estimators=1300, max_depth=6, learning_rate=0.15, objective=reg:logistic\n",
      "\n"
     ]
    }
   ],
   "source": [
    "#numberOfParents = 210 #number of parents to start\n",
    "#numberOfParentsMating = 105 #number of parents that will mate\n",
    "#numberOfParameters = 7 #number of parameters that will be optimized\n",
    "#numberOfGenerations = 10 #number of genration that will be created\n",
    "if __name__ == \"__main__\":\n",
    "    run_xgb(random_state=0, poly_degree=1, n_estimators=1300, max_depth=6,\n",
    "        learning_rate=0.15, objective=\"reg:logistic\", problem=\"compressive\")"
   ]
  },
  {
   "cell_type": "code",
   "execution_count": 10,
   "metadata": {},
   "outputs": [
    {
     "name": "stdout",
     "output_type": "stream",
     "text": [
      "Running XGB for tensile data with random_state=0, poly_degree=2, n_estimators=700, max_depth=6, learning_rate=0.09, objective=reg:logistic\n",
      "[fold 0] r: 0.97559, rmse(MPa): 0.30830, mae(MPa): 0.16830, mape(%): 7.30305\n",
      "[fold 1] r: 0.98185, rmse(MPa): 0.23752, mae(MPa): 0.16210, mape(%): 5.93606\n",
      "[fold 2] r: 0.97815, rmse(MPa): 0.28058, mae(MPa): 0.19357, mape(%): 7.64573\n",
      "[fold 3] r: 0.97237, rmse(MPa): 0.31902, mae(MPa): 0.20625, mape(%): 7.20507\n",
      "[fold 4] r: 0.98484, rmse(MPa): 0.24744, mae(MPa): 0.15893, mape(%): 6.30713\n",
      "[fold 5] r: 0.97694, rmse(MPa): 0.26971, mae(MPa): 0.15959, mape(%): 6.47530\n",
      "[fold 6] r: 0.97146, rmse(MPa): 0.32157, mae(MPa): 0.21007, mape(%): 7.17884\n",
      "[fold 7] r: 0.98551, rmse(MPa): 0.23342, mae(MPa): 0.16260, mape(%): 5.58613\n",
      "[fold 8] r: 0.98557, rmse(MPa): 0.23270, mae(MPa): 0.15914, mape(%): 6.06778\n",
      "[fold 9] r: 0.97293, rmse(MPa): 0.28485, mae(MPa): 0.17789, mape(%): 6.59071\n",
      "k-fold mean:               [0.97852023 0.27351038 0.17584387 6.62957982]\n",
      "k-fold standard deviation: [0.00528936 0.03321228 0.01914469 0.6429341 ]\n",
      "Running time: 48.269s \n",
      "Finished running XGB for tensile data with random_state=0, poly_degree=2, n_estimators=700, max_depth=6, learning_rate=0.09, objective=reg:logistic\n",
      "\n"
     ]
    }
   ],
   "source": [
    "#numberOfParents = 210 #number of parents to start\n",
    "#numberOfParentsMating = 105 #number of parents that will mate\n",
    "#numberOfParameters = 7 #number of parameters that will be optimized\n",
    "#numberOfGenerations = 10 #number of genration that will be created\n",
    "if __name__ == \"__main__\":\n",
    "    run_xgb(random_state=0, poly_degree=2, n_estimators=700, max_depth=6,\n",
    "        learning_rate=0.09, objective=\"reg:logistic\", problem=\"tensile\")"
   ]
  },
  {
   "cell_type": "code",
   "execution_count": 69,
   "metadata": {},
   "outputs": [
    {
     "name": "stdout",
     "output_type": "stream",
     "text": [
      "Running XGB for tensile data with random_state=0, poly_degree=2, n_estimators=700, max_depth=5, learning_rate=0.15, objective=reg:logistic\n",
      "[fold 0] r: 0.97497, rmse(MPa): 0.31210, mae(MPa): 0.16108, mape(%): 6.96969\n",
      "[fold 1] r: 0.98296, rmse(MPa): 0.23025, mae(MPa): 0.15599, mape(%): 5.85299\n",
      "[fold 2] r: 0.97824, rmse(MPa): 0.28005, mae(MPa): 0.19269, mape(%): 7.54741\n",
      "[fold 3] r: 0.97357, rmse(MPa): 0.31208, mae(MPa): 0.20622, mape(%): 7.35011\n",
      "[fold 4] r: 0.98674, rmse(MPa): 0.23155, mae(MPa): 0.15183, mape(%): 6.29184\n",
      "[fold 5] r: 0.97753, rmse(MPa): 0.26628, mae(MPa): 0.15476, mape(%): 6.42746\n",
      "[fold 6] r: 0.97004, rmse(MPa): 0.32936, mae(MPa): 0.21380, mape(%): 7.25072\n",
      "[fold 7] r: 0.98636, rmse(MPa): 0.22652, mae(MPa): 0.16005, mape(%): 5.55139\n",
      "[fold 8] r: 0.98542, rmse(MPa): 0.23384, mae(MPa): 0.16021, mape(%): 5.96341\n",
      "[fold 9] r: 0.97222, rmse(MPa): 0.28851, mae(MPa): 0.17846, mape(%): 6.43306\n",
      "k-fold mean:               [0.97880423 0.27105369 0.17351067 6.56381028]\n",
      "k-fold standard deviation: [0.00587659 0.03710858 0.02174148 0.64982401]\n",
      "Running time: 45.545s \n",
      "Finished running XGB for tensile data with random_state=0, poly_degree=2, n_estimators=700, max_depth=5, learning_rate=0.15, objective=reg:logistic\n",
      "\n"
     ]
    }
   ],
   "source": [
    "#numberOfParents = 250 #number of parents to start\n",
    "#numberOfParentsMating = 125 #number of parents that will mate\n",
    "#numberOfParameters = 7 #number of parameters that will be optimized\n",
    "#numberOfGenerations = 10 #number of genration that will be created\n",
    "if __name__ == \"__main__\":\n",
    "    run_xgb(random_state=0, poly_degree=2, n_estimators=700, max_depth=5,\n",
    "        learning_rate=0.15, objective=\"reg:logistic\", problem=\"tensile\")"
   ]
  },
  {
   "cell_type": "code",
   "execution_count": 10,
   "metadata": {},
   "outputs": [
    {
     "name": "stdout",
     "output_type": "stream",
     "text": [
      "Running XGB for test2 data with random_state=0, poly_degree=2, n_estimators=100, max_depth=2, learning_rate=0.2, objective=reg:logistic\n",
      "[fold 0] r: 0.96748, rmse(MPa): 0.35510, mae(MPa): 0.25410, mape(%): 10.90921\n",
      "[fold 1] r: 0.97095, rmse(MPa): 0.29969, mae(MPa): 0.23096, mape(%): 8.15388\n",
      "[fold 2] r: 0.94897, rmse(MPa): 0.42566, mae(MPa): 0.29204, mape(%): 11.29526\n",
      "[fold 3] r: 0.94443, rmse(MPa): 0.44920, mae(MPa): 0.33779, mape(%): 12.61138\n",
      "[fold 4] r: 0.95806, rmse(MPa): 0.40881, mae(MPa): 0.29252, mape(%): 11.72618\n",
      "[fold 5] r: 0.96515, rmse(MPa): 0.33059, mae(MPa): 0.24703, mape(%): 10.68393\n",
      "[fold 6] r: 0.94750, rmse(MPa): 0.43344, mae(MPa): 0.31909, mape(%): 11.34759\n",
      "[fold 7] r: 0.97344, rmse(MPa): 0.31505, mae(MPa): 0.23475, mape(%): 8.53774\n",
      "[fold 8] r: 0.95218, rmse(MPa): 0.41999, mae(MPa): 0.29805, mape(%): 10.80038\n",
      "[fold 9] r: 0.94672, rmse(MPa): 0.39693, mae(MPa): 0.27858, mape(%): 10.62472\n",
      "k-fold mean:               [ 0.95748736  0.38344614  0.27849155 10.66902566]\n",
      "k-fold standard deviation: [0.01039819 0.05104489 0.03418287 1.29183603]\n",
      "Running time: 1.535s \n",
      "Finished running XGB for test2 data with random_state=0, poly_degree=2, n_estimators=100, max_depth=2, learning_rate=0.2, objective=reg:logistic\n",
      "\n"
     ]
    }
   ],
   "source": [
    "if __name__ == \"__main__\":\n",
    "    run_xgb(random_state=0, poly_degree=2, n_estimators=100, max_depth=2,\n",
    "        learning_rate=0.2, objective=\"reg:logistic\", problem=\"test2\")"
   ]
  },
  {
   "cell_type": "code",
   "execution_count": 66,
   "metadata": {},
   "outputs": [
    {
     "name": "stdout",
     "output_type": "stream",
     "text": [
      "Running XGB for test2 data with random_state=0, poly_degree=2, n_estimators=50, max_depth=3, learning_rate=0.15, objective=reg:logistic\n",
      "[fold 0] r: 0.96651, rmse(MPa): 0.36027, mae(MPa): 0.25030, mape(%): 10.79046\n",
      "[fold 1] r: 0.96969, rmse(MPa): 0.30600, mae(MPa): 0.23145, mape(%): 8.02406\n",
      "[fold 2] r: 0.94980, rmse(MPa): 0.42225, mae(MPa): 0.29362, mape(%): 11.46427\n",
      "[fold 3] r: 0.94785, rmse(MPa): 0.43553, mae(MPa): 0.32849, mape(%): 12.23622\n",
      "[fold 4] r: 0.96051, rmse(MPa): 0.39694, mae(MPa): 0.29301, mape(%): 11.91023\n",
      "[fold 5] r: 0.96148, rmse(MPa): 0.34723, mae(MPa): 0.26240, mape(%): 11.45122\n",
      "[fold 6] r: 0.94640, rmse(MPa): 0.43785, mae(MPa): 0.31634, mape(%): 11.23984\n",
      "[fold 7] r: 0.97194, rmse(MPa): 0.32370, mae(MPa): 0.23856, mape(%): 8.61507\n",
      "[fold 8] r: 0.95092, rmse(MPa): 0.42533, mae(MPa): 0.30214, mape(%): 10.83771\n",
      "[fold 9] r: 0.94700, rmse(MPa): 0.39594, mae(MPa): 0.26902, mape(%): 10.05898\n",
      "k-fold mean:               [ 0.9572095   0.38510665  0.2785339  10.66280765]\n",
      "k-fold standard deviation: [0.00944147 0.0454534  0.03143577 1.31134681]\n",
      "Running time: 0.826s \n",
      "Finished running XGB for test2 data with random_state=0, poly_degree=2, n_estimators=50, max_depth=3, learning_rate=0.15, objective=reg:logistic\n",
      "\n"
     ]
    }
   ],
   "source": [
    "#numberOfParents = 250 #number of parents to start\n",
    "#numberOfParentsMating = 125 #number of parents that will mate\n",
    "#numberOfParameters = 7 #number of parameters that will be optimized\n",
    "#numberOfGenerations = 10 #number of genration that will be created\n",
    "if __name__ == \"__main__\":\n",
    "    run_xgb(random_state=0, poly_degree=2, n_estimators=50, max_depth=3,\n",
    "        learning_rate=0.15, objective=\"reg:logistic\", problem=\"test2\")"
   ]
  },
  {
   "cell_type": "code",
   "execution_count": null,
   "metadata": {},
   "outputs": [],
   "source": []
  }
 ],
 "metadata": {
  "kernelspec": {
   "display_name": "Python 3",
   "language": "python",
   "name": "python3"
  },
  "language_info": {
   "codemirror_mode": {
    "name": "ipython",
    "version": 3
   },
   "file_extension": ".py",
   "mimetype": "text/x-python",
   "name": "python",
   "nbconvert_exporter": "python",
   "pygments_lexer": "ipython3",
   "version": "3.7.6"
  }
 },
 "nbformat": 4,
 "nbformat_minor": 4
}
