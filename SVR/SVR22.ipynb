{
 "cells": [
  {
   "cell_type": "code",
   "execution_count": 1,
   "metadata": {},
   "outputs": [],
   "source": [
    "import numpy as np\n",
    "import pandas as pd\n",
    "from sklearn.metrics import mean_squared_error\n",
    "from sklearn.metrics import mean_absolute_error\n",
    "from sklearn.metrics import r2_score\n",
    "from sklearn.preprocessing import MinMaxScaler, PolynomialFeatures\n",
    "from sklearn.model_selection import *\n",
    "import time\n",
    "from optparse import OptionParser\n",
    "import matplotlib\n",
    "from matplotlib import pyplot as plt\n",
    "from tikzplotlib import save as tikz_save"
   ]
  },
  {
   "cell_type": "code",
   "execution_count": 2,
   "metadata": {},
   "outputs": [],
   "source": [
    "def mean_absolute_percentage_error(y_test, y_pred):\n",
    "    y_test, y_pred = np.array(y_test), np.array(y_pred)\n",
    "    return np.mean(np.abs((y_test - y_pred) / y_test)) * 100"
   ]
  },
  {
   "cell_type": "code",
   "execution_count": 3,
   "metadata": {},
   "outputs": [],
   "source": [
    "# cross validation\n",
    "def cv(random_state, poly_degree, model, problem=\"compressive\", print_folds=True):\n",
    "    interaction_only = False\n",
    "    if problem.lower() == \"compressive\":\n",
    "        data_file ='../Dataset/compressive_strength.csv'\n",
    "        data = pd.read_csv(data_file)\n",
    "        interaction_only = True\n",
    "\n",
    "    elif problem.lower() == \"tensile\":\n",
    "        data_file = '../Dataset/tensile_strength.csv'\n",
    "        data = pd.read_csv(data_file)\n",
    "        \n",
    "    elif problem.lower() == \"test2\":\n",
    "        data_file = '../Dataset/data2set.csv'\n",
    "        data = pd.read_csv(data_file)    \n",
    "    else:\n",
    "        print(\"The problem has to be compressive or tensile12 or tensile2\")\n",
    "        return\n",
    "\n",
    "    data = data.values\n",
    "    n_data_cols = np.shape(data)[1]\n",
    "    n_features = n_data_cols - 1\n",
    "\n",
    "    # retrieve data for features\n",
    "    X = np.array(data[:, :n_features])\n",
    "    y = np.array(data[:, n_features:])\n",
    "    # split into 10 folds with shuffle\n",
    "    n_folds = 10\n",
    "    kf = KFold(n_splits=n_folds, shuffle=True, random_state=random_state)\n",
    "\n",
    "    start_time = time.time()\n",
    "    scores = []\n",
    "    fold_index = 0\n",
    "\n",
    "    for train_index, test_index in kf.split(X):\n",
    "        X_train = X[train_index]\n",
    "        y_train = y[train_index]\n",
    "        X_test = X[test_index]\n",
    "        y_test = y[test_index]\n",
    "\n",
    "        X_scaler = MinMaxScaler(feature_range=(0, 1))\n",
    "        X_train = X_scaler.fit_transform(X_train)\n",
    "        X_test = X_scaler.transform(X_test)\n",
    "\n",
    "        y_scaler = MinMaxScaler(feature_range=(0, 1))\n",
    "        y_train = y_scaler.fit_transform(y_train)\n",
    "\n",
    "        if poly_degree >= 1:\n",
    "            poly = PolynomialFeatures(degree=poly_degree, interaction_only=interaction_only)\n",
    "            X_train = poly.fit_transform(X_train)\n",
    "            X_test = poly.transform(X_test)\n",
    "            # print ('Total number of features: ', X_train.size)\n",
    "\n",
    "        model.fit(X_train, y_train.ravel())\n",
    "\n",
    "        y_pred = model.predict(X_test)\n",
    "        y_pred = y_scaler.inverse_transform(y_pred.reshape(-1, 1))\n",
    "\n",
    "        # y_train_pred = model.predict(X_train)\n",
    "        # y_train_pred = y_scaler.inverse_transform(y_train_pred.reshape(-1, 1))\n",
    "\n",
    "        # y_train = y_scaler.inverse_transform(y_train)\n",
    "\n",
    "        # Error measurements\n",
    "        r_lcc = r2_score(y_test, y_pred) ** 0.5\n",
    "        rmse = mean_squared_error(y_test, y_pred) ** 0.5\n",
    "        # print(\"RMSE on train: %s\" % mean_squared_error(y_train, y_train_pred) ** 0.5)\n",
    "        # print(\"RMSE on test: %s\" % rmse)\n",
    "        mae = mean_absolute_error(y_test, y_pred)\n",
    "        mape = mean_absolute_percentage_error(y_test, y_pred)\n",
    "        scores.append([r_lcc, rmse, mae, mape])\n",
    "        #if print_folds:\n",
    "            #print(\"[fold {0}] r: {1:.5f}, rmse(MPa): {2:.5f}, mae(MPa): {3:.5f}, mape(%): {4:.5f}\".\n",
    "                  #format(fold_index, scores[fold_index][0], scores[fold_index][1], scores[fold_index][2], scores[fold_index][3]))\n",
    "        fold_index += 1\n",
    "    scores = np.array(scores)\n",
    "    # barplot([\"R2\", \"RMSE\", \"MAE\", \"MAPE\"], scores.mean(0), scores.std(0), \"Metrics\", \"Values\",\n",
    "    #         \"Performance with different metrics\")\n",
    "    print('k-fold mean:              ', scores.mean(0))\n",
    "    print('k-fold standard deviation:', scores.std(0))\n",
    "\n",
    "    # Running time\n",
    "    print('Running time: %.3fs ' % (time.time() - start_time))\n",
    "    return scores.mean(0)[1].item()"
   ]
  },
  {
   "cell_type": "code",
   "execution_count": 9,
   "metadata": {},
   "outputs": [],
   "source": [
    "from sklearn.svm import SVR\n",
    "regressor = SVR"
   ]
  },
  {
   "cell_type": "code",
   "execution_count": 4,
   "metadata": {},
   "outputs": [],
   "source": [
    "def barplot(x_data, y_data, error_data, x_label, y_label, title):\n",
    "    _, ax = plt.subplots()\n",
    "    x = np.arange(1, len(x_data) + 1)\n",
    "\n",
    "    ax.bar(x, y_data, color='#539caf', align='center')\n",
    "    ax.errorbar(x, y_data, yerr=error_data, color='#297083', ls='none', lw=2, capthick=2, elinewidth=2)\n",
    "    ax.set_xticks(x)\n",
    "    ax.set_xticklabels(x_data)\n",
    "    ax.set_ylabel(y_label)\n",
    "    ax.set_xlabel(x_label)\n",
    "    ax.set_title(title)\n",
    "\n",
    "    plt.show()"
   ]
  },
  {
   "cell_type": "code",
   "execution_count": 5,
   "metadata": {},
   "outputs": [],
   "source": [
    "def lineplot(x_data, y_data, label, dashed=True, marker='o', color='blue', markersize=8, linewidth=1.5):\n",
    "    if dashed:\n",
    "        plt.plot(x_data, y_data, 'r--', marker=marker, markerfacecolor=color, markersize=markersize, color=color,\n",
    "                 linewidth=linewidth, label=label)\n",
    "    else:\n",
    "        plt.plot(x_data, y_data, marker=marker, markerfacecolor=color, markersize=markersize, color=color,\n",
    "                 linewidth=linewidth, label=label)"
   ]
  },
  {
   "cell_type": "code",
   "execution_count": 6,
   "metadata": {},
   "outputs": [],
   "source": [
    "def run_model(regressor, params, random_state, poly_degree, problem):\n",
    "    model = regressor(**params)\n",
    "    cv(random_state=random_state, poly_degree=poly_degree, model=model, problem=problem)"
   ]
  },
  {
   "cell_type": "code",
   "execution_count": null,
   "metadata": {},
   "outputs": [],
   "source": []
  },
  {
   "cell_type": "code",
   "execution_count": 7,
   "metadata": {},
   "outputs": [],
   "source": [
    "def run_svr(random_state, poly_degree, kernel, C, epsilon, gamma, problem):\n",
    "    print(\"Running SVR for %s data with \"\n",
    "          \"random_state=%s, poly_degree=%s, kernel=%s, C=%s, epsilon=%s, gamma=%s\" %\n",
    "          (problem, random_state, poly_degree, kernel, C, epsilon, gamma))\n",
    "\n",
    "    model = SVR(kernel=kernel, C=C, epsilon=epsilon, gamma=gamma, degree=poly_degree)\n",
    "    if kernel == \"poly\":\n",
    "        poly_degree = 1\n",
    "\n",
    "    cv(random_state, poly_degree, model, problem=problem)\n",
    "    print(\"Finished running SVR for %s data with \"\n",
    "          \"random_state=%s, poly_degree=%s, kernel=%s, C=%s, epsilon=%s, gamma=%s\\n\" %\n",
    "          (problem, random_state, poly_degree, kernel, C, epsilon, gamma))\n"
   ]
  },
  {
   "cell_type": "code",
   "execution_count": 10,
   "metadata": {},
   "outputs": [
    {
     "name": "stdout",
     "output_type": "stream",
     "text": [
      "Running SVR for compressive data with random_state=1, poly_degree=4, kernel=linear, C=50.0, epsilon=0.1, gamma=0.5\n",
      "k-fold mean:               [ 0.8599255   8.11317991  6.53606001 24.86226077]\n",
      "k-fold standard deviation: [0.0335709  0.94876078 0.53362262 4.64538945]\n",
      "Running time: 22.714s \n",
      "Finished running SVR for compressive data with random_state=1, poly_degree=4, kernel=linear, C=50.0, epsilon=0.1, gamma=0.5\n",
      "\n",
      "Running SVR for compressive data with random_state=0, poly_degree=3, kernel=rbf, C=500.0, epsilon=0.03, gamma=0.2\n",
      "k-fold mean:               [ 0.94366623  5.23620093  3.83561509 12.70903186]\n",
      "k-fold standard deviation: [0.01402648 0.53743287 0.41981998 1.2350175 ]\n",
      "Running time: 86.642s \n",
      "Finished running SVR for compressive data with random_state=0, poly_degree=3, kernel=rbf, C=500.0, epsilon=0.03, gamma=0.2\n",
      "\n",
      "Running SVR for compressive data with random_state=2, poly_degree=4, kernel=rbf, C=2.0, epsilon=0.07, gamma=0.3\n",
      "k-fold mean:               [ 0.91169561  6.52683786  5.07891388 18.2755498 ]\n",
      "k-fold standard deviation: [0.02056342 0.64237903 0.43004913 1.80988832]\n",
      "Running time: 2.855s \n",
      "Finished running SVR for compressive data with random_state=2, poly_degree=4, kernel=rbf, C=2.0, epsilon=0.07, gamma=0.3\n",
      "\n",
      "Running SVR for compressive data with random_state=0, poly_degree=3, kernel=rbf, C=500.0, epsilon=0.07, gamma=0.2\n",
      "k-fold mean:               [ 0.9370276   5.52943228  4.24294448 14.63319901]\n",
      "k-fold standard deviation: [0.01328734 0.36813387 0.28156852 1.8514775 ]\n",
      "Running time: 30.215s \n",
      "Finished running SVR for compressive data with random_state=0, poly_degree=3, kernel=rbf, C=500.0, epsilon=0.07, gamma=0.2\n",
      "\n",
      "Running SVR for compressive data with random_state=2, poly_degree=4, kernel=linear, C=10.0, epsilon=0.09, gamma=0.7\n",
      "k-fold mean:               [ 0.85646817  8.20353792  6.51000677 24.50465523]\n",
      "k-fold standard deviation: [0.03185269 0.70775722 0.43600659 2.05079811]\n",
      "Running time: 7.149s \n",
      "Finished running SVR for compressive data with random_state=2, poly_degree=4, kernel=linear, C=10.0, epsilon=0.09, gamma=0.7\n",
      "\n",
      "Running SVR for compressive data with random_state=2, poly_degree=3, kernel=linear, C=50.0, epsilon=0.1, gamma=0.7\n",
      "k-fold mean:               [ 0.85212074  8.32921531  6.64987812 25.18479114]\n",
      "k-fold standard deviation: [0.03018279 0.66894398 0.44369864 2.4373387 ]\n",
      "Running time: 21.810s \n",
      "Finished running SVR for compressive data with random_state=2, poly_degree=3, kernel=linear, C=50.0, epsilon=0.1, gamma=0.7\n",
      "\n",
      "Running SVR for compressive data with random_state=42, poly_degree=3, kernel=rbf, C=100.0, epsilon=0.03, gamma=0.3\n",
      "k-fold mean:               [ 0.93682799  5.52625828  4.03691301 13.55476401]\n",
      "k-fold standard deviation: [0.01604193 0.59836778 0.31346736 1.14717161]\n",
      "Running time: 27.817s \n",
      "Finished running SVR for compressive data with random_state=42, poly_degree=3, kernel=rbf, C=100.0, epsilon=0.03, gamma=0.3\n",
      "\n",
      "Running SVR for compressive data with random_state=42, poly_degree=2, kernel=poly, C=5000.0, epsilon=0.04, gamma=0.1\n",
      "k-fold mean:               [ 0.87515251  7.68783942  5.79648625 20.22048724]\n",
      "k-fold standard deviation: [0.0225823  0.63511201 0.46527274 1.17083913]\n",
      "Running time: 66.954s \n",
      "Finished running SVR for compressive data with random_state=42, poly_degree=1, kernel=poly, C=5000.0, epsilon=0.04, gamma=0.1\n",
      "\n",
      "Running SVR for compressive data with random_state=2, poly_degree=3, kernel=linear, C=1.0, epsilon=0.02, gamma=0.6\n",
      "k-fold mean:               [ 0.83018316  8.82779516  6.53986484 24.32837491]\n",
      "k-fold standard deviation: [0.04538093 0.94018559 0.53427763 1.67569126]\n",
      "Running time: 3.732s \n",
      "Finished running SVR for compressive data with random_state=2, poly_degree=3, kernel=linear, C=1.0, epsilon=0.02, gamma=0.6\n",
      "\n",
      "Running SVR for compressive data with random_state=42, poly_degree=4, kernel=poly, C=1000.0, epsilon=0.02, gamma=0.4\n",
      "k-fold mean:               [ 0.93439196  5.61014131  4.04717144 13.41430012]\n",
      "k-fold standard deviation: [0.0192781  0.68572579 0.35228103 1.14128211]\n",
      "Running time: 561.679s \n",
      "Finished running SVR for compressive data with random_state=42, poly_degree=1, kernel=poly, C=1000.0, epsilon=0.02, gamma=0.4\n",
      "\n"
     ]
    }
   ],
   "source": [
    "def random_search():\n",
    "    #random state\n",
    "    random_state_opts= np.array([0, 1, 2, 42])\n",
    "    \n",
    "    #poly_degree\n",
    "    poly_degree_opts = np.arange(1, 5, 1)\n",
    "\n",
    "    # kernel\n",
    "    kernel_opts = np.array([\"rbf\", \"rbf\", \"poly\", \"linear\"])  # 3\n",
    "\n",
    "    # C\n",
    "    C_opts = np.array([0.1, 0.2, 0.5, 1, 2, 5, 10, 20, 50, 100, 200, 500, 1000, 2000, 5000]) # 15\n",
    "    C_linear_opts = np.array([0.1, 0.2, 0.5, 1, 2, 5, 10, 20, 50, 100]) # 10\n",
    "\n",
    "    # epsilon\n",
    "    epsilon_opts = np.array([.01, .02, .03, .04, .05, .06, .07, .08, .09, 0.1])  # 10\n",
    "\n",
    "    # gamma\n",
    "    gamma_opts = np.array([0.1, 0.2, 0.3, 0.4, 0.5, 0.6, 0.7, 0.8, 0.9])  # 9\n",
    "\n",
    "    for i in range(10): #trail purpose we choose 10 , you can choose more than 10 for more values.\n",
    "        kernel = str(np.random.choice(kernel_opts))\n",
    "\n",
    "        C = np.random.choice(C_opts)\n",
    "        if kernel == \"linear\":\n",
    "            C = np.random.choice(C_linear_opts)\n",
    "\n",
    "        epsilon = np.random.choice(epsilon_opts)\n",
    "\n",
    "        gamma = np.random.choice(gamma_opts)\n",
    "        random_state=np.random.choice(random_state_opts)\n",
    "        poly_degree=np.random.choice(poly_degree_opts)\n",
    "\n",
    "        run_svr(random_state, poly_degree, kernel, C, epsilon, gamma, problem=\"compressive\")\n",
    "\n",
    "\n",
    "if __name__ == \"__main__\":\n",
    "    random_search()"
   ]
  },
  {
   "cell_type": "code",
   "execution_count": 11,
   "metadata": {},
   "outputs": [
    {
     "name": "stdout",
     "output_type": "stream",
     "text": [
      "k-fold mean:               [ 0.94874861  4.99960785  3.78761222 12.72047548]\n",
      "k-fold standard deviation: [0.01231371 0.3989696  0.31497205 1.13356136]\n",
      "Running time: 166.168s \n"
     ]
    }
   ],
   "source": [
    "if __name__ == \"__main__\":\n",
    "    from sklearn.svm import SVR\n",
    "    regressor = SVR\n",
    "    params = {\"kernel\": \"rbf\", \"C\": 1000, \"epsilon\": 0.04, \"gamma\": 0.5}\n",
    "    run_model(regressor, params,random_state=0,poly_degree=1, problem=\"compressive\")"
   ]
  },
  {
   "cell_type": "code",
   "execution_count": 12,
   "metadata": {},
   "outputs": [
    {
     "name": "stdout",
     "output_type": "stream",
     "text": [
      "k-fold mean:               [0.97610874 0.28840299 0.19569114 7.90865755]\n",
      "k-fold standard deviation: [0.00579433 0.02786736 0.0171633  1.11677284]\n",
      "Running time: 6.711s \n"
     ]
    }
   ],
   "source": [
    "if __name__ == \"__main__\":\n",
    "    \n",
    "    from sklearn.svm import SVR\n",
    "    regressor = SVR\n",
    "    params = {\"kernel\": \"rbf\", \"C\": 20, \"epsilon\": 0.01, \"gamma\": 0.9}\n",
    "    run_model(regressor, params,random_state=0,poly_degree=1, problem=\"tensile\")"
   ]
  },
  {
   "cell_type": "code",
   "execution_count": 13,
   "metadata": {},
   "outputs": [
    {
     "name": "stdout",
     "output_type": "stream",
     "text": [
      "k-fold mean:               [ 0.95750775  0.38400228  0.27284111 10.63745621]\n",
      "k-fold standard deviation: [0.00860898 0.03985652 0.02608608 1.08478671]\n",
      "Running time: 29.047s \n"
     ]
    }
   ],
   "source": [
    "if __name__ == \"__main__\":\n",
    "    \n",
    "    from sklearn.svm import SVR\n",
    "    regressor = SVR\n",
    "    params = {\"kernel\": \"rbf\", \"C\": 2000, \"epsilon\": 0.03, \"gamma\": 0.9}\n",
    "    run_model(regressor, params,random_state=0,poly_degree=2, problem=\"test2\")"
   ]
  },
  {
   "cell_type": "code",
   "execution_count": null,
   "metadata": {},
   "outputs": [],
   "source": []
  }
 ],
 "metadata": {
  "kernelspec": {
   "display_name": "Python 3",
   "language": "python",
   "name": "python3"
  },
  "language_info": {
   "codemirror_mode": {
    "name": "ipython",
    "version": 3
   },
   "file_extension": ".py",
   "mimetype": "text/x-python",
   "name": "python",
   "nbconvert_exporter": "python",
   "pygments_lexer": "ipython3",
   "version": "3.7.6"
  }
 },
 "nbformat": 4,
 "nbformat_minor": 4
}
